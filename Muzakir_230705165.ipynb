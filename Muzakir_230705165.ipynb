{
  "nbformat": 4,
  "nbformat_minor": 0,
  "metadata": {
    "colab": {
      "provenance": []
    },
    "kernelspec": {
      "name": "python3",
      "display_name": "Python 3"
    },
    "language_info": {
      "name": "python"
    }
  },
  "cells": [
    {
      "cell_type": "code",
      "source": [
        "class Mahasiswa:\n",
        "    def __init__(self, nama, nim):\n",
        "        self.nama = nama\n",
        "        self.nim = nim\n",
        "\n",
        "    def cetak_krs(self):\n",
        "        print(f\"Mahasiswa {self.nama} dengan NIM {self.nim} mencetak KRS.\")\n",
        "\n",
        "# Membuat objek dari kelas Mahasiswa\n",
        "mhs = Mahasiswa(\"Muzakir\", \"230705165\")\n",
        "\n",
        "# Memanggil method cetak_krs\n",
        "mhs.cetak_krs()"
      ],
      "metadata": {
        "colab": {
          "base_uri": "https://localhost:8080/"
        },
        "id": "p3BP0S-JTwph",
        "outputId": "ba5907da-a4fa-4c2a-a9be-6263091d6c10"
      },
      "execution_count": 1,
      "outputs": [
        {
          "output_type": "stream",
          "name": "stdout",
          "text": [
            "Mahasiswa Budi dengan NIM 12345678 mencetak KRS.\n"
          ]
        }
      ]
    },
    {
      "cell_type": "code",
      "source": [
        "import math\n",
        "\n",
        "class Lingkaran:\n",
        "    def __init__(self, jari_jari):\n",
        "        self.jari_jari = jari_jari\n",
        "\n",
        "    def hitung_luas(self):\n",
        "        return math.pi * self.jari_jari ** 2\n",
        "\n",
        "# Membuat objek dari kelas Lingkaran\n",
        "blt = Lingkaran(7)\n",
        "\n",
        "# Memanggil method hitung_luas dan mencetak hasilnya\n",
        "print(f\"Luas lingkaran dengan jari-jari {blt.jari_jari} adalah {blt.hitung_luas():.2f}\")"
      ],
      "metadata": {
        "colab": {
          "base_uri": "https://localhost:8080/"
        },
        "id": "__yxGxgNT9BQ",
        "outputId": "4b7f0684-20d6-4a9e-cb00-9f32d68ea572"
      },
      "execution_count": 2,
      "outputs": [
        {
          "output_type": "stream",
          "name": "stdout",
          "text": [
            "Luas lingkaran dengan jari-jari 7 adalah 153.94\n"
          ]
        }
      ]
    },
    {
      "cell_type": "code",
      "source": [
        "class Mobil:\n",
        "    def __init__(self, merk, warna):\n",
        "        self.merk = merk\n",
        "        self.warna = warna\n",
        "\n",
        "    def jalankan(self):\n",
        "        print(f\"Mobil {self.merk} berwarna {self.warna} sedang berjalan.\")\n",
        "\n",
        "# Membuat objek dari kelas Mobil\n",
        "mbl = Mobil(\"Toyota\", \"Merah\")\n",
        "\n",
        "# Memanggil method jalankan\n",
        "mbl.jalankan()\n"
      ],
      "metadata": {
        "colab": {
          "base_uri": "https://localhost:8080/"
        },
        "id": "vP63wME_UK5Z",
        "outputId": "c948411d-b19e-455f-b6f6-5333320c1372"
      },
      "execution_count": 3,
      "outputs": [
        {
          "output_type": "stream",
          "name": "stdout",
          "text": [
            "Mobil Toyota berwarna Merah sedang berjalan.\n"
          ]
        }
      ]
    },
    {
      "cell_type": "code",
      "source": [
        "class Hewan:\n",
        "    def __init__(self, nama, jenis):\n",
        "        self.nama = nama\n",
        "        self.jenis = jenis\n",
        "\n",
        "    def bersuara(self):\n",
        "        print(f\"{self.nama} adalah hewan {self.jenis} yang bersuara.\")\n",
        "\n",
        "# Membuat objek dari kelas Hewan\n",
        "kucing = Hewan(\"Kucing\", \"Mamalia\")\n",
        "\n",
        "# Memanggil method bersuara\n",
        "kucing.bersuara()\n"
      ],
      "metadata": {
        "colab": {
          "base_uri": "https://localhost:8080/"
        },
        "id": "sHWAW2Z3UeoB",
        "outputId": "78247d6e-92f0-4000-e440-1b180da69f7c"
      },
      "execution_count": 4,
      "outputs": [
        {
          "output_type": "stream",
          "name": "stdout",
          "text": [
            "Kucing adalah hewan Mamalia yang bersuara.\n"
          ]
        }
      ]
    },
    {
      "cell_type": "code",
      "source": [
        "class Buku:\n",
        "    def __init__(self, judul, penulis):\n",
        "        self.judul = judul\n",
        "        self.penulis = penulis\n",
        "\n",
        "    def info(self):\n",
        "        print(f\"Buku '{self.judul}' ditulis oleh {self.penulis}.\")\n",
        "\n",
        "# Membuat objek dari kelas Buku\n",
        "novel = Buku(\"Laskar Pelangi\", \"Andrea Hirata\")\n",
        "\n",
        "# Memanggil method info\n",
        "novel.info()"
      ],
      "metadata": {
        "colab": {
          "base_uri": "https://localhost:8080/"
        },
        "id": "Dkc-lks7Ujgo",
        "outputId": "0b92c467-5adf-48ae-b29e-46e1c24589e0"
      },
      "execution_count": 5,
      "outputs": [
        {
          "output_type": "stream",
          "name": "stdout",
          "text": [
            "Buku 'Laskar Pelangi' ditulis oleh Andrea Hirata.\n"
          ]
        }
      ]
    }
  ]
}